{
  "nbformat": 4,
  "nbformat_minor": 0,
  "metadata": {
    "colab": {
      "provenance": [],
      "authorship_tag": "ABX9TyPv+dxt+EX1kRWiXuQosSTB",
      "include_colab_link": true
    },
    "kernelspec": {
      "name": "python3",
      "display_name": "Python 3"
    },
    "language_info": {
      "name": "python"
    }
  },
  "cells": [
    {
      "cell_type": "markdown",
      "metadata": {
        "id": "view-in-github",
        "colab_type": "text"
      },
      "source": [
        "<a href=\"https://colab.research.google.com/github/mehdi12358/GoMyCode/blob/main/Untitled1.ipynb\" target=\"_parent\"><img src=\"https://colab.research.google.com/assets/colab-badge.svg\" alt=\"Open In Colab\"/></a>"
      ]
    },
    {
      "cell_type": "code",
      "execution_count": null,
      "metadata": {
        "id": "KOlNxwjRRFwx",
        "colab": {
          "base_uri": "https://localhost:8080/"
        },
        "outputId": "1faf64a3-8e43-4c7d-b66a-6da3de9bc1de"
      },
      "outputs": [
        {
          "output_type": "stream",
          "name": "stdout",
          "text": [
            "{0, 1, 2, 3, 4, 5}\n",
            "{0, 1, 2, 3, 4}\n"
          ]
        }
      ],
      "source": [
        "my_set={0,1,2,3,4}\n",
        "my_set.add(5)\n",
        "print(my_set)\n",
        "my_set={0,1,2,3,4,5}\n",
        "my_set.remove(5)\n",
        "print(my_set)"
      ]
    },
    {
      "cell_type": "code",
      "source": [],
      "metadata": {
        "id": "jUe01-FWIzhR"
      },
      "execution_count": null,
      "outputs": []
    }
  ]
}