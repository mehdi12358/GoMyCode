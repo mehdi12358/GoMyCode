{
  "nbformat": 4,
  "nbformat_minor": 0,
  "metadata": {
    "colab": {
      "provenance": [],
      "authorship_tag": "ABX9TyP1h3g9HUgNB0xLzCSHIceq",
      "include_colab_link": true
    },
    "kernelspec": {
      "name": "python3",
      "display_name": "Python 3"
    },
    "language_info": {
      "name": "python"
    }
  },
  "cells": [
    {
      "cell_type": "markdown",
      "metadata": {
        "id": "view-in-github",
        "colab_type": "text"
      },
      "source": [
        "<a href=\"https://colab.research.google.com/github/mehdi12358/GoMyCode/blob/main/Untitled1.ipynb\" target=\"_parent\"><img src=\"https://colab.research.google.com/assets/colab-badge.svg\" alt=\"Open In Colab\"/></a>"
      ]
    },
    {
      "cell_type": "code",
      "execution_count": 10,
      "metadata": {
        "id": "KOlNxwjRRFwx",
        "colab": {
          "base_uri": "https://localhost:8080/"
        },
        "outputId": "7d30055c-afbf-4ad2-85cd-1df55cfee2ae"
      },
      "outputs": [
        {
          "output_type": "stream",
          "name": "stdout",
          "text": [
            "24\n",
            "enter your guess10\n",
            "your guess is too low.try again\n",
            "enter your guess30\n",
            "your guess is too high.try again\n",
            "enter your guess24\n",
            "Congratulations! You guessed the number correctly!\n"
          ]
        }
      ],
      "source": [
        "import random\n",
        "number= random.randint(1,100)\n",
        "print(number)\n",
        "guess=int(input(\"enter your guess\"))\n",
        "while guess !=number:\n",
        "  if guess>number:\n",
        "    print(\"your guess is too high.try again\")\n",
        "  else:\n",
        "    print(\"your guess is too low.try again\")\n",
        "  guess=int(input(\"enter your guess\"))\n",
        "print(\"Congratulations! You guessed the number correctly!\")"
      ]
    }
  ]
}