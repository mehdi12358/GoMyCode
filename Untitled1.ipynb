{
  "nbformat": 4,
  "nbformat_minor": 0,
  "metadata": {
    "colab": {
      "provenance": [],
      "authorship_tag": "ABX9TyM+uO1qZ/wD1LBXs1oG/6DV",
      "include_colab_link": true
    },
    "kernelspec": {
      "name": "python3",
      "display_name": "Python 3"
    },
    "language_info": {
      "name": "python"
    }
  },
  "cells": [
    {
      "cell_type": "markdown",
      "metadata": {
        "id": "view-in-github",
        "colab_type": "text"
      },
      "source": [
        "<a href=\"https://colab.research.google.com/github/mehdi12358/GoMyCode/blob/main/Untitled1.ipynb\" target=\"_parent\"><img src=\"https://colab.research.google.com/assets/colab-badge.svg\" alt=\"Open In Colab\"/></a>"
      ]
    },
    {
      "cell_type": "code",
      "execution_count": 6,
      "metadata": {
        "colab": {
          "base_uri": "https://localhost:8080/"
        },
        "id": "wccFH27C66l2",
        "outputId": "5074e247-b5fd-43ab-be25-35c274e458c5"
      },
      "outputs": [
        {
          "output_type": "stream",
          "name": "stdout",
          "text": [
            "enter the number of students2\n",
            "enter the number of subjects2\n",
            "[[0. 0.]\n",
            " [0. 0.]]\n"
          ]
        }
      ],
      "source": [
        "import numpy as np\n",
        "def calculate_grade(percentage):\n",
        "  if percentage >= 90:\n",
        "   return \"A+\"\n",
        "  elif percentage >= 80:\n",
        "   return \"A\"\n",
        "  elif percentage >= 70:\n",
        "    return \"B+\"\n",
        "  elif percentage >= 60:\n",
        "    return \"B\"\n",
        "  elif percentage >=50:\n",
        "    return \"C\"\n",
        "  else:\n",
        "    return \"f\"\n",
        "num_students = int(input(\"enter the number of students\"))\n",
        "num_subjects = int(input(\"enter the number of subjects\"))\n",
        "marks_array=np.zeros((num_students,num_subjects))\n",
        "print(marks_array)"
      ]
    }
  ]
}