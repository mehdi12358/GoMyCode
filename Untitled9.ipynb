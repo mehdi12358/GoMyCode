{
  "nbformat": 4,
  "nbformat_minor": 0,
  "metadata": {
    "colab": {
      "provenance": [],
      "authorship_tag": "ABX9TyMSnwb1JyoWAuhpUqIPGkh2",
      "include_colab_link": true
    },
    "kernelspec": {
      "name": "python3",
      "display_name": "Python 3"
    },
    "language_info": {
      "name": "python"
    }
  },
  "cells": [
    {
      "cell_type": "markdown",
      "metadata": {
        "id": "view-in-github",
        "colab_type": "text"
      },
      "source": [
        "<a href=\"https://colab.research.google.com/github/mehdi12358/GoMyCode/blob/main/Untitled9.ipynb\" target=\"_parent\"><img src=\"https://colab.research.google.com/assets/colab-badge.svg\" alt=\"Open In Colab\"/></a>"
      ]
    },
    {
      "cell_type": "code",
      "execution_count": null,
      "metadata": {
        "id": "rNWnSWiiEM4X"
      },
      "outputs": [],
      "source": [
        "import tkinter as tk\n",
        "import random\n",
        "\n",
        "# Function to determine the game result\n",
        "def play(player_choice):\n",
        "    choices = [\"Rock\", \"Paper\", \"Scissors\"]\n",
        "    computer_choice = random.choice(choices)\n",
        "\n",
        "    if player_choice == computer_choice:\n",
        "        result.set(\"It's a tie!\")\n",
        "    elif (\n",
        "        (player_choice == \"Rock\" and computer_choice == \"Scissors\")\n",
        "        or (player_choice == \"Paper\" and computer_choice == \"Rock\")\n",
        "        or (player_choice == \"Scissors\" and computer_choice == \"Paper\")\n",
        "    ):\n",
        "        result.set(\"You win!\")\n",
        "    else:\n",
        "        result.set(\"You lose!\")\n",
        "\n",
        "\n",
        "def reset():\n",
        "    result.set(\"\")\n",
        "\n",
        "\n",
        "def exit_app():\n",
        "    root.destroy()\n",
        "\n",
        "root = tk.Tk()\n",
        "root.title(\"Rock, Paper, Scissors\")\n",
        "\n",
        "\n",
        "result = tk.StringVar()\n",
        "result.set(\"\")\n",
        "\n",
        "\n",
        "result_entry = tk.Entry(root, textvariable=result)\n",
        "result_entry.pack()\n",
        "\n",
        "\n",
        "play_button = tk.Button(root, text=\"PLAY\", command=lambda: play(\"Rock\"))\n",
        "play_button.pack(side=tk.LEFT)\n",
        "\n",
        "reset_button = tk.Button(root, text=\"RESET\", command=reset)\n",
        "reset_button.pack(side=tk.LEFT)\n",
        "\n",
        "\n",
        "exit_button = tk.Button(root, text=\"EXIT\", command=exit_app)\n",
        "exit_button.pack(side=tk.LEFT)\n",
        "\n",
        "root.mainloop()"
      ]
    }
  ]
}