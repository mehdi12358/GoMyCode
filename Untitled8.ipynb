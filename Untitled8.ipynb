{
  "nbformat": 4,
  "nbformat_minor": 0,
  "metadata": {
    "colab": {
      "provenance": [],
      "authorship_tag": "ABX9TyPZO8z7bOB0Ol91klhoihSg",
      "include_colab_link": true
    },
    "kernelspec": {
      "name": "python3",
      "display_name": "Python 3"
    },
    "language_info": {
      "name": "python"
    }
  },
  "cells": [
    {
      "cell_type": "markdown",
      "metadata": {
        "id": "view-in-github",
        "colab_type": "text"
      },
      "source": [
        "<a href=\"https://colab.research.google.com/github/mehdi12358/GoMyCode/blob/main/Untitled8.ipynb\" target=\"_parent\"><img src=\"https://colab.research.google.com/assets/colab-badge.svg\" alt=\"Open In Colab\"/></a>"
      ]
    },
    {
      "cell_type": "code",
      "execution_count": 2,
      "metadata": {
        "colab": {
          "base_uri": "https://localhost:8080/",
          "height": 375
        },
        "id": "tDNQuyXZpLyW",
        "outputId": "99925a0a-8259-4eb7-aa48-8c62e5f3a30e"
      },
      "outputs": [
        {
          "output_type": "error",
          "ename": "TclError",
          "evalue": "ignored",
          "traceback": [
            "\u001b[0;31m---------------------------------------------------------------------------\u001b[0m",
            "\u001b[0;31mTclError\u001b[0m                                  Traceback (most recent call last)",
            "\u001b[0;32m<ipython-input-2-d7a1afcc9907>\u001b[0m in \u001b[0;36m<cell line: 27>\u001b[0;34m()\u001b[0m\n\u001b[1;32m     25\u001b[0m \u001b[0;34m\u001b[0m\u001b[0m\n\u001b[1;32m     26\u001b[0m \u001b[0;31m# Set up the game window\u001b[0m\u001b[0;34m\u001b[0m\u001b[0;34m\u001b[0m\u001b[0m\n\u001b[0;32m---> 27\u001b[0;31m \u001b[0mwindow\u001b[0m \u001b[0;34m=\u001b[0m \u001b[0mtk\u001b[0m\u001b[0;34m.\u001b[0m\u001b[0mTk\u001b[0m\u001b[0;34m(\u001b[0m\u001b[0;34m)\u001b[0m\u001b[0;34m\u001b[0m\u001b[0;34m\u001b[0m\u001b[0m\n\u001b[0m\u001b[1;32m     28\u001b[0m \u001b[0mwindow\u001b[0m\u001b[0;34m.\u001b[0m\u001b[0mtitle\u001b[0m\u001b[0;34m(\u001b[0m\u001b[0;34m\"Rock, Paper, Scissors Game\"\u001b[0m\u001b[0;34m)\u001b[0m\u001b[0;34m\u001b[0m\u001b[0;34m\u001b[0m\u001b[0m\n\u001b[1;32m     29\u001b[0m \u001b[0mwindow\u001b[0m\u001b[0;34m.\u001b[0m\u001b[0mgeometry\u001b[0m\u001b[0;34m(\u001b[0m\u001b[0;34m\"400x200\"\u001b[0m\u001b[0;34m)\u001b[0m\u001b[0;34m\u001b[0m\u001b[0;34m\u001b[0m\u001b[0m\n",
            "\u001b[0;32m/usr/lib/python3.10/tkinter/__init__.py\u001b[0m in \u001b[0;36m__init__\u001b[0;34m(self, screenName, baseName, className, useTk, sync, use)\u001b[0m\n\u001b[1;32m   2297\u001b[0m                 \u001b[0mbaseName\u001b[0m \u001b[0;34m=\u001b[0m \u001b[0mbaseName\u001b[0m \u001b[0;34m+\u001b[0m \u001b[0mext\u001b[0m\u001b[0;34m\u001b[0m\u001b[0;34m\u001b[0m\u001b[0m\n\u001b[1;32m   2298\u001b[0m         \u001b[0minteractive\u001b[0m \u001b[0;34m=\u001b[0m \u001b[0;32mFalse\u001b[0m\u001b[0;34m\u001b[0m\u001b[0;34m\u001b[0m\u001b[0m\n\u001b[0;32m-> 2299\u001b[0;31m         \u001b[0mself\u001b[0m\u001b[0;34m.\u001b[0m\u001b[0mtk\u001b[0m \u001b[0;34m=\u001b[0m \u001b[0m_tkinter\u001b[0m\u001b[0;34m.\u001b[0m\u001b[0mcreate\u001b[0m\u001b[0;34m(\u001b[0m\u001b[0mscreenName\u001b[0m\u001b[0;34m,\u001b[0m \u001b[0mbaseName\u001b[0m\u001b[0;34m,\u001b[0m \u001b[0mclassName\u001b[0m\u001b[0;34m,\u001b[0m \u001b[0minteractive\u001b[0m\u001b[0;34m,\u001b[0m \u001b[0mwantobjects\u001b[0m\u001b[0;34m,\u001b[0m \u001b[0museTk\u001b[0m\u001b[0;34m,\u001b[0m \u001b[0msync\u001b[0m\u001b[0;34m,\u001b[0m \u001b[0muse\u001b[0m\u001b[0;34m)\u001b[0m\u001b[0;34m\u001b[0m\u001b[0;34m\u001b[0m\u001b[0m\n\u001b[0m\u001b[1;32m   2300\u001b[0m         \u001b[0;32mif\u001b[0m \u001b[0museTk\u001b[0m\u001b[0;34m:\u001b[0m\u001b[0;34m\u001b[0m\u001b[0;34m\u001b[0m\u001b[0m\n\u001b[1;32m   2301\u001b[0m             \u001b[0mself\u001b[0m\u001b[0;34m.\u001b[0m\u001b[0m_loadtk\u001b[0m\u001b[0;34m(\u001b[0m\u001b[0;34m)\u001b[0m\u001b[0;34m\u001b[0m\u001b[0;34m\u001b[0m\u001b[0m\n",
            "\u001b[0;31mTclError\u001b[0m: no display name and no $DISPLAY environment variable"
          ]
        }
      ],
      "source": [
        "import tkinter as tk\n",
        "import random\n",
        "\n",
        "def play():\n",
        "    user_choice = user_input.get().lower()\n",
        "    if user_choice not in [\"rock\", \"paper\", \"scissors\"]:\n",
        "        result_label.config(text=\"Invalid choice! Please choose rock, paper, or scissors.\")\n",
        "    else:\n",
        "        comp_pick = random.choice([\"rock\", \"paper\", \"scissors\"])\n",
        "        result_label.config(text=f\"Computer's pick: {comp_pick}\")\n",
        "\n",
        "        if user_choice == comp_pick:\n",
        "            result_label.config(text=\"It's a tie!\")\n",
        "        elif (user_choice == \"rock\" and comp_pick == \"scissors\") or (user_choice == \"paper\" and comp_pick == \"rock\") or (user_choice == \"scissors\" and comp_pick == \"paper\"):\n",
        "            result_label.config(text=\"Congratulations, you win!\")\n",
        "        else:\n",
        "            result_label.config(text=\"Sorry, you lose!\")\n",
        "\n",
        "def reset():\n",
        "    user_input.delete(0, tk.END)\n",
        "    result_label.config(text=\"\")\n",
        "\n",
        "def exit_game():\n",
        "    window.destroy()\n",
        "\n",
        "window = tk.Tk()\n",
        "window.title(\"Rock, Paper, Scissors Game\")\n",
        "window.geometry(\"400x200\")\n",
        "\n",
        "window.configure(background=\"#e6e6e6\")\n",
        "\n",
        "title_label = tk.Label(window, text=\"Rock, Paper, Scissors Game\", font=(\"Helvetica\", 20))\n",
        "title_label.pack(pady=20)\n",
        "\n",
        "user_input_label = tk.Label(window, text=\"Choose: rock, paper, or scissors:\")\n",
        "user_input_label.pack()\n",
        "\n",
        "user_input = tk.Entry(window, font=(\"Helvetica\", 16))\n",
        "user_input.pack(pady=10)\n",
        "\n",
        "submit_button = tk.Button(window, text=\"Play\", command=play)\n",
        "submit_button.pack(pady=10)\n",
        "\n",
        "result_label = tk.Label(window, text=\"\", font=(\"Helvetica\", 16))\n",
        "result_label.pack(pady=20)\n",
        "\n",
        "reset_button = tk.Button(window, text=\"Reset\", command=reset)\n",
        "reset_button.pack(side=tk.LEFT, padx=10)\n",
        "\n",
        "exit_button = tk.Button(window, text=\"Exit\", command=exit_game)\n",
        "exit_button.pack(side=tk.RIGHT, padx=10)\n",
        "\n",
        "window.mainloop()\n"
      ]
    }
  ]
}