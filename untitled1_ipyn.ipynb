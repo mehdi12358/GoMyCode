{
  "nbformat": 4,
  "nbformat_minor": 0,
  "metadata": {
    "colab": {
      "provenance": [],
      "authorship_tag": "ABX9TyN4zPPFrUq1gnEnzWmvsFhR",
      "include_colab_link": true
    },
    "kernelspec": {
      "name": "python3",
      "display_name": "Python 3"
    },
    "language_info": {
      "name": "python"
    }
  },
  "cells": [
    {
      "cell_type": "markdown",
      "metadata": {
        "id": "view-in-github",
        "colab_type": "text"
      },
      "source": [
        "<a href=\"https://colab.research.google.com/github/mehdi12358/GoMyCode/blob/main/untitled1_ipyn.ipynb\" target=\"_parent\"><img src=\"https://colab.research.google.com/assets/colab-badge.svg\" alt=\"Open In Colab\"/></a>"
      ]
    },
    {
      "cell_type": "code",
      "execution_count": null,
      "metadata": {
        "id": "KOlNxwjRRFwx",
        "colab": {
          "base_uri": "https://localhost:8080/"
        },
        "outputId": "1faf64a3-8e43-4c7d-b66a-6da3de9bc1de"
      },
      "outputs": [
        {
          "output_type": "stream",
          "name": "stdout",
          "text": [
            "{0, 1, 2, 3, 4, 5}\n",
            "{0, 1, 2, 3, 4}\n"
          ]
        }
      ],
      "source": [
        "my_set={0,1,2,3,4}\n",
        "my_set.add(5)\n",
        "print(my_set)\n",
        "my_set={0,1,2,3,4,5}\n",
        "my_set.remove(5)\n",
        "print(my_set)"
      ]
    },
    {
      "cell_type": "code",
      "source": [
        "employee1=[\"mehdi\",25,\"captain\",2245]\n",
        "employee2=[\"zied\",23,\"chief medical officer\",2266]\n",
        "employee3=[\"adem\",20,\"science officer\",2287]\n",
        "print(employee1)"
      ],
      "metadata": {
        "colab": {
          "base_uri": "https://localhost:8080/"
        },
        "id": "u4azrbWtgbim",
        "outputId": "8621f938-35bd-42dd-a6eb-a0c575a05d1a"
      },
      "execution_count": null,
      "outputs": [
        {
          "output_type": "stream",
          "name": "stdout",
          "text": [
            "['mehdi', 25, 'captain', 2245]\n"
          ]
        }
      ]
    },
    {
      "cell_type": "code",
      "source": [
        " class point3D:\n",
        "  def _init_(self,x,y,z):\n",
        "    self.x=x\n",
        "    self.y=y\n",
        "    self.z=z\n",
        "  def repr(self):\n",
        "    return (self,x,y,z)\n"
      ],
      "metadata": {
        "id": "jUe01-FWIzhR"
      },
      "execution_count": null,
      "outputs": []
    },
    {
      "cell_type": "code",
      "source": [
        "class car:\n",
        "  def_init_(self,color,top_speed)\n",
        "     self.color= color\n",
        "     self.top_speed= top_speed\n",
        "  def showtopspeed(self):\n",
        "    print(\"top speed\")\n",
        "    print(\"self.top speed KMH\")\n",
        "    MPH= self.KMH to mph(self.top speed)\n",
        "  def showcolor(self):\n",
        "    print(\"color\")\n",
        "    print(self.color)\n",
        "  def kmhtomph(kmh):\n",
        "    return KMH * 200\n",
        "  def updatespeed(self, new_speed)\n",
        "     self.top_speed= new_speed\n",
        "  def updatecolor(self,new_color)\n",
        "      self.color=new_color\n",
        "\n",
        "my_car=car(\"red\",200)\n",
        "my_car.showtopspeed()\n",
        "my_car.showcolor()\n",
        "\n",
        "my_car.updatespeed(300)\n",
        "my_car.updatecolor(\"blue\")"
      ],
      "metadata": {
        "colab": {
          "base_uri": "https://localhost:8080/",
          "height": 130
        },
        "id": "RVujXG2ZZ_d_",
        "outputId": "7d7abc8b-7219-423e-da5a-241aae6ad711"
      },
      "execution_count": null,
      "outputs": [
        {
          "output_type": "error",
          "ename": "IndentationError",
          "evalue": "ignored",
          "traceback": [
            "\u001b[0;36m  File \u001b[0;32m\"<ipython-input-9-daea297c2447>\"\u001b[0;36m, line \u001b[0;32m3\u001b[0m\n\u001b[0;31m    self.color= color\u001b[0m\n\u001b[0m    ^\u001b[0m\n\u001b[0;31mIndentationError\u001b[0m\u001b[0;31m:\u001b[0m unexpected indent\n"
          ]
        }
      ]
    },
    {
      "cell_type": "code",
      "source": [
        "x=int(input(\"x= \"))\n",
        "y=int(input(\"y= \"))\n",
        "s= x+y\n",
        "print(\"s\",s)\n",
        "if s%2==0:\n",
        "  print(\"pair\")\n",
        "else:\n",
        "  print(\"impair\")\n",
        "  s=s+1\n",
        "print(\"s=\",s)"
      ],
      "metadata": {
        "colab": {
          "base_uri": "https://localhost:8080/"
        },
        "id": "imcAii86Z8qY",
        "outputId": "5a49c8a4-ca27-404e-99ec-3394c80d394a"
      },
      "execution_count": null,
      "outputs": [
        {
          "output_type": "stream",
          "name": "stdout",
          "text": [
            "x= 5\n",
            "y= 3\n",
            "pair\n",
            "s= 8\n"
          ]
        }
      ]
    },
    {
      "cell_type": "code",
      "source": [
        "x=int(input(\"x= \"))\n",
        "p=1\n",
        "for i in range(1,x+1):\n",
        "  p=p*i\n",
        "print(\"p= \",p)"
      ],
      "metadata": {
        "colab": {
          "base_uri": "https://localhost:8080/"
        },
        "id": "BHj-FZvEh-Y7",
        "outputId": "9f92615c-0321-4485-e798-8a0165df74b7"
      },
      "execution_count": null,
      "outputs": [
        {
          "output_type": "stream",
          "name": "stdout",
          "text": [
            "x= 5\n",
            "p=  120\n"
          ]
        }
      ]
    },
    {
      "cell_type": "code",
      "source": [
        "\n",
        "def my_function(num=50):\n",
        "  print(\"i am from\"+num)\n",
        "my_function (10)\n",
        "my_function(5)"
      ],
      "metadata": {
        "colab": {
          "base_uri": "https://localhost:8080/",
          "height": 338
        },
        "id": "CtNNYBPj0JgU",
        "outputId": "1577c23e-1fe2-4f28-a130-875ae3228110"
      },
      "execution_count": null,
      "outputs": [
        {
          "output_type": "error",
          "ename": "TypeError",
          "evalue": "ignored",
          "traceback": [
            "\u001b[0;31m---------------------------------------------------------------------------\u001b[0m",
            "\u001b[0;31mTypeError\u001b[0m                                 Traceback (most recent call last)",
            "\u001b[0;32m<ipython-input-14-67a6029329c5>\u001b[0m in \u001b[0;36m<cell line: 3>\u001b[0;34m()\u001b[0m\n\u001b[1;32m      1\u001b[0m \u001b[0;32mdef\u001b[0m \u001b[0mmy_function\u001b[0m\u001b[0;34m(\u001b[0m\u001b[0mnum\u001b[0m\u001b[0;34m=\u001b[0m\u001b[0;36m50\u001b[0m\u001b[0;34m)\u001b[0m\u001b[0;34m:\u001b[0m\u001b[0;34m\u001b[0m\u001b[0;34m\u001b[0m\u001b[0m\n\u001b[1;32m      2\u001b[0m   \u001b[0mprint\u001b[0m\u001b[0;34m(\u001b[0m\u001b[0;34m\"i am from\"\u001b[0m\u001b[0;34m+\u001b[0m\u001b[0mnum\u001b[0m\u001b[0;34m)\u001b[0m\u001b[0;34m\u001b[0m\u001b[0;34m\u001b[0m\u001b[0m\n\u001b[0;32m----> 3\u001b[0;31m \u001b[0mmy_function\u001b[0m \u001b[0;34m(\u001b[0m\u001b[0;36m10\u001b[0m\u001b[0;34m)\u001b[0m\u001b[0;34m\u001b[0m\u001b[0;34m\u001b[0m\u001b[0m\n\u001b[0m\u001b[1;32m      4\u001b[0m \u001b[0mmy_function\u001b[0m\u001b[0;34m(\u001b[0m\u001b[0;36m5\u001b[0m\u001b[0;34m)\u001b[0m\u001b[0;34m\u001b[0m\u001b[0;34m\u001b[0m\u001b[0m\n",
            "\u001b[0;32m<ipython-input-14-67a6029329c5>\u001b[0m in \u001b[0;36mmy_function\u001b[0;34m(num)\u001b[0m\n\u001b[1;32m      1\u001b[0m \u001b[0;32mdef\u001b[0m \u001b[0mmy_function\u001b[0m\u001b[0;34m(\u001b[0m\u001b[0mnum\u001b[0m\u001b[0;34m=\u001b[0m\u001b[0;36m50\u001b[0m\u001b[0;34m)\u001b[0m\u001b[0;34m:\u001b[0m\u001b[0;34m\u001b[0m\u001b[0;34m\u001b[0m\u001b[0m\n\u001b[0;32m----> 2\u001b[0;31m   \u001b[0mprint\u001b[0m\u001b[0;34m(\u001b[0m\u001b[0;34m\"i am from\"\u001b[0m\u001b[0;34m+\u001b[0m\u001b[0mnum\u001b[0m\u001b[0;34m)\u001b[0m\u001b[0;34m\u001b[0m\u001b[0;34m\u001b[0m\u001b[0m\n\u001b[0m\u001b[1;32m      3\u001b[0m \u001b[0mmy_function\u001b[0m \u001b[0;34m(\u001b[0m\u001b[0;36m10\u001b[0m\u001b[0;34m)\u001b[0m\u001b[0;34m\u001b[0m\u001b[0;34m\u001b[0m\u001b[0m\n\u001b[1;32m      4\u001b[0m \u001b[0mmy_function\u001b[0m\u001b[0;34m(\u001b[0m\u001b[0;36m5\u001b[0m\u001b[0;34m)\u001b[0m\u001b[0;34m\u001b[0m\u001b[0;34m\u001b[0m\u001b[0m\n",
            "\u001b[0;31mTypeError\u001b[0m: can only concatenate str (not \"int\") to str"
          ]
        }
      ]
    },
    {
      "cell_type": "code",
      "source": [
        "sum= lambda a,b:a*b\n",
        "print(sum(5,10))"
      ],
      "metadata": {
        "colab": {
          "base_uri": "https://localhost:8080/"
        },
        "id": "r50aYi8hdIVX",
        "outputId": "283ec51e-4a66-47ad-b1d0-67d8118896a9"
      },
      "execution_count": null,
      "outputs": [
        {
          "output_type": "stream",
          "name": "stdout",
          "text": [
            "50\n"
          ]
        }
      ]
    },
    {
      "cell_type": "code",
      "source": [
        "year= lambda ch:ch[:4]\n",
        "ch=\"2008945\"\n",
        "print(year(ch))"
      ],
      "metadata": {
        "colab": {
          "base_uri": "https://localhost:8080/"
        },
        "id": "eNrhMEfgMFzV",
        "outputId": "b010536c-066c-44b7-8973-1487a5740114"
      },
      "execution_count": null,
      "outputs": [
        {
          "output_type": "stream",
          "name": "stdout",
          "text": [
            "2008\n"
          ]
        }
      ]
    },
    {
      "cell_type": "code",
      "source": [
        "def myfunc(a,b):\n",
        "  return a+b\n",
        "result=list(map(myfunc,(1,2,3),(3,2,1)))\n",
        "result"
      ],
      "metadata": {
        "colab": {
          "base_uri": "https://localhost:8080/"
        },
        "id": "sdCB_nKoSdI0",
        "outputId": "0d3926e7-f00f-49d6-a1f2-ba6d7297d9f1"
      },
      "execution_count": null,
      "outputs": [
        {
          "output_type": "execute_result",
          "data": {
            "text/plain": [
              "[4, 4, 4]"
            ]
          },
          "metadata": {},
          "execution_count": 10
        }
      ]
    },
    {
      "cell_type": "code",
      "source": [
        "def myfunc(a):\n",
        "  return len(a)\n",
        "fruit=('apple','banana','cherry')\n",
        "result=map(myfunc,fruit)\n",
        "\n",
        "\n",
        "print(list(result))"
      ],
      "metadata": {
        "colab": {
          "base_uri": "https://localhost:8080/"
        },
        "id": "VDRc4K92XdSi",
        "outputId": "de89efde-d4ad-487e-ca0a-5914e9996e81"
      },
      "execution_count": null,
      "outputs": [
        {
          "output_type": "stream",
          "name": "stdout",
          "text": [
            "[5, 6, 6]\n"
          ]
        }
      ]
    }
  ]
}